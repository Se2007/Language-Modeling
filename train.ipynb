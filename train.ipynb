{
 "cells": [
  {
   "cell_type": "code",
   "execution_count": 1,
   "metadata": {},
   "outputs": [
    {
     "name": "stderr",
     "output_type": "stream",
     "text": [
      "C:\\Users\\USER\\AppData\\Roaming\\Python\\Python311\\site-packages\\torchaudio\\backend\\utils.py:74: UserWarning: No audio backend is available.\n",
      "  warnings.warn(\"No audio backend is available.\")\n"
     ]
    },
    {
     "ename": "ModuleNotFoundError",
     "evalue": "No module named 'LSTM'",
     "output_type": "error",
     "traceback": [
      "\u001b[1;31m---------------------------------------------------------------------------\u001b[0m",
      "\u001b[1;31mModuleNotFoundError\u001b[0m                       Traceback (most recent call last)",
      "\u001b[1;32md:\\Language-Modeling\\train.ipynb Cell 1\u001b[0m line \u001b[0;36m1\n\u001b[0;32m     <a href='vscode-notebook-cell:/d%3A/Language-Modeling/train.ipynb#W0sZmlsZQ%3D%3D?line=12'>13</a>\u001b[0m \u001b[39mfrom\u001b[39;00m \u001b[39mMethods\u001b[39;00m \u001b[39mimport\u001b[39;00m LSTM, Transformer\n\u001b[0;32m     <a href='vscode-notebook-cell:/d%3A/Language-Modeling/train.ipynb#W0sZmlsZQ%3D%3D?line=13'>14</a>\u001b[0m \u001b[39mimport\u001b[39;00m \u001b[39mutils\u001b[39;00m \n\u001b[1;32m---> <a href='vscode-notebook-cell:/d%3A/Language-Modeling/train.ipynb#W0sZmlsZQ%3D%3D?line=14'>15</a>\u001b[0m \u001b[39mfrom\u001b[39;00m \u001b[39mtrain\u001b[39;00m \u001b[39mimport\u001b[39;00m load, save, plot\n",
      "File \u001b[1;32md:\\Language-Modeling\\train.py:13\u001b[0m\n\u001b[0;32m     11\u001b[0m \u001b[39mimport\u001b[39;00m  \u001b[39mwandb\u001b[39;00m\n\u001b[0;32m     12\u001b[0m \u001b[39mimport\u001b[39;00m \u001b[39mos\u001b[39;00m\n\u001b[1;32m---> 13\u001b[0m \u001b[39mimport\u001b[39;00m \u001b[39mLSTM\u001b[39;00m\n\u001b[0;32m     14\u001b[0m \u001b[39mimport\u001b[39;00m \u001b[39mTransformer\u001b[39;00m\n\u001b[0;32m     15\u001b[0m \u001b[39mimport\u001b[39;00m \u001b[39mutils\u001b[39;00m \n",
      "\u001b[1;31mModuleNotFoundError\u001b[0m: No module named 'LSTM'"
     ]
    }
   ],
   "source": [
    "import torch\n",
    "from torch import nn\n",
    "import torch.nn.functional as F\n",
    "import matplotlib.pyplot as plt\n",
    "from torch import optim\n",
    "\n",
    "from benchmark import dataset\n",
    "import time\n",
    "import math\n",
    "import numpy as np\n",
    "import  wandb\n",
    "import os\n",
    "from Methods import LSTM, Transformer\n",
    "import utils \n",
    "from train import load, save, plot"
   ]
  },
  {
   "cell_type": "code",
   "execution_count": 3,
   "metadata": {},
   "outputs": [
    {
     "name": "stderr",
     "output_type": "stream",
     "text": [
      "\u001b[34m\u001b[1mwandb\u001b[0m: \u001b[33mWARNING\u001b[0m If you're specifying your api key in code, ensure this code is not shared publicly.\n",
      "\u001b[34m\u001b[1mwandb\u001b[0m: \u001b[33mWARNING\u001b[0m Consider setting the WANDB_API_KEY environment variable, or running `wandb login` from the command line.\n",
      "\u001b[34m\u001b[1mwandb\u001b[0m: Appending key for api.wandb.ai to your netrc file: C:\\Users\\USER/.netrc\n"
     ]
    }
   ],
   "source": [
    "key_file = './wandb-key.txt'\n",
    "\n",
    "if os.path.exists(key_file):\n",
    "    with open(key_file) as f:\n",
    "        key = f.readline().strip()\n",
    "    wandb.login(key=key)\n",
    "else:\n",
    "    print(\"Key file does not exist. Please create the key file with your wandb API key.\")"
   ]
  },
  {
   "cell_type": "code",
   "execution_count": 4,
   "metadata": {},
   "outputs": [],
   "source": [
    "seed = 3\n",
    "wandb_enable = True\n",
    "\n",
    "info = {'num_epoch' :10,\n",
    "        'lr' : 0.1,\n",
    "        'weight_decay' : 0.00001,\n",
    "        'device' : 'cuda',\n",
    "        'reset': True,\n",
    "        'name_load' : 'TR4.312',#  \n",
    "        'model_load_path' : './model/Transformer/',\n",
    "        'model_save_path' : './model/Transformer/'\n",
    "        }\n",
    "\n"
   ]
  },
  {
   "cell_type": "code",
   "execution_count": 5,
   "metadata": {},
   "outputs": [
    {
     "data": {
      "text/html": [
       "Tracking run with wandb version 0.16.0"
      ],
      "text/plain": [
       "<IPython.core.display.HTML object>"
      ]
     },
     "metadata": {},
     "output_type": "display_data"
    },
    {
     "data": {
      "text/html": [
       "Run data is saved locally in <code>d:\\Language-Modeling\\wandb\\run-20231112_161936-kropqgz4</code>"
      ],
      "text/plain": [
       "<IPython.core.display.HTML object>"
      ]
     },
     "metadata": {},
     "output_type": "display_data"
    },
    {
     "data": {
      "text/html": [
       "Syncing run <strong><a href='https://wandb.ai/face-estimation/Language-Modeling/runs/kropqgz4' target=\"_blank\">normal-transformer without dropout</a></strong> to <a href='https://wandb.ai/face-estimation/Language-Modeling' target=\"_blank\">Weights & Biases</a> (<a href='https://wandb.me/run' target=\"_blank\">docs</a>)<br/>"
      ],
      "text/plain": [
       "<IPython.core.display.HTML object>"
      ]
     },
     "metadata": {},
     "output_type": "display_data"
    },
    {
     "data": {
      "text/html": [
       " View project at <a href='https://wandb.ai/face-estimation/Language-Modeling' target=\"_blank\">https://wandb.ai/face-estimation/Language-Modeling</a>"
      ],
      "text/plain": [
       "<IPython.core.display.HTML object>"
      ]
     },
     "metadata": {},
     "output_type": "display_data"
    },
    {
     "data": {
      "text/html": [
       " View run at <a href='https://wandb.ai/face-estimation/Language-Modeling/runs/kropqgz4' target=\"_blank\">https://wandb.ai/face-estimation/Language-Modeling/runs/kropqgz4</a>"
      ],
      "text/plain": [
       "<IPython.core.display.HTML object>"
      ]
     },
     "metadata": {},
     "output_type": "display_data"
    },
    {
     "data": {
      "text/html": [
       "<button onClick=\"this.nextSibling.style.display='block';this.style.display='none';\">Display W&B run</button><iframe src='https://wandb.ai/face-estimation/Language-Modeling/runs/kropqgz4?jupyter=true' style='border:none;width:100%;height:420px;display:none;'></iframe>"
      ],
      "text/plain": [
       "<wandb.sdk.wandb_run.Run at 0x1c9b1df3710>"
      ]
     },
     "execution_count": 5,
     "metadata": {},
     "output_type": "execute_result"
    }
   ],
   "source": [
    "wandb_arg_name = 'normal-transformer without dropout'\n",
    "wandb.init(\n",
    "        project='Language-Modeling',\n",
    "        name=wandb_arg_name,\n",
    "        config={\n",
    "            'lr': info['lr'],\n",
    "            'weight_decay': info['weight_decay'],\n",
    "            'num_epoch': info['num_epoch']\n",
    "        }\n",
    "    )\n"
   ]
  },
  {
   "cell_type": "code",
   "execution_count": 6,
   "metadata": {},
   "outputs": [],
   "source": [
    "loss_train_hist = []\n",
    "loss_valid_hist = []\n",
    "\n",
    "metric_train_hist = []\n",
    "metric_valid_hist = []"
   ]
  },
  {
   "cell_type": "code",
   "execution_count": 7,
   "metadata": {},
   "outputs": [],
   "source": [
    "batch_size = 80\n",
    "seq_len = 70\n",
    "\n",
    "\n",
    "load_path = info['model_load_path'] + info['name_load'] + \".pth\"\n",
    "\n",
    "train_loader = dataset.WikiText2('train')(batch_size=batch_size, seq_len=seq_len)\n",
    "valid_loader = dataset.WikiText2('valid')(batch_size=batch_size, seq_len=seq_len)\n",
    "vocab = dataset.WikiText2('train').vocab\n",
    "\n",
    "\n",
    "# model = LSTM.awd_lstm(num_token_vocab=len(vocab))\n",
    "model = Transformer.normal_encoder(num_token_vocab=len(vocab))\n",
    "\n",
    "optimizer = optim.SGD(model.parameters(), lr=info['lr'], weight_decay=info['weight_decay'], momentum=0.9)# , nesterov=True\n",
    "\n",
    "loss_fn = nn.CrossEntropyLoss()\n",
    "\n",
    "\n",
    "\n",
    "model, loss_fn, _ = load(model, loss_fn, optimizer, device=info['device'], reset = info['reset'], load_path = load_path)\n",
    "\n",
    "best_loss_valid = torch.inf\n",
    "save_path = info['model_save_path'] + 'model'+ \".pth\""
   ]
  },
  {
   "cell_type": "code",
   "execution_count": 27,
   "metadata": {},
   "outputs": [
    {
     "name": "stderr",
     "output_type": "stream",
     "text": [
      "Epoch 1:   0%|          | 0/367 [00:00<?, ?batch/s]"
     ]
    },
    {
     "name": "stderr",
     "output_type": "stream",
     "text": [
      "Epoch 1: 100%|██████████| 367/367 [01:15<00:00,  4.83batch/s, loss=2.72, metric=15.2]\n"
     ]
    },
    {
     "name": "stdout",
     "output_type": "stream",
     "text": [
      "Train      - Loss:2.721511582912476  Metric:15.20289134979248\n",
      "Validation - Loss:3.7781507663237743  Metric:43.561302185058594\n",
      "\n",
      "Model Saved!\n"
     ]
    },
    {
     "name": "stderr",
     "output_type": "stream",
     "text": [
      "Epoch 2: 100%|██████████| 367/367 [01:16<00:00,  4.78batch/s, loss=2.71, metric=15]  \n"
     ]
    },
    {
     "name": "stdout",
     "output_type": "stream",
     "text": [
      "Train      - Loss:2.7092407327906636  Metric:15.016292572021484\n",
      "Validation - Loss:3.7831716415209646  Metric:44.074188232421875\n",
      "\n"
     ]
    },
    {
     "name": "stderr",
     "output_type": "stream",
     "text": [
      "Epoch 3: 100%|██████████| 367/367 [01:16<00:00,  4.77batch/s, loss=2.7, metric=14.8] \n"
     ]
    },
    {
     "name": "stdout",
     "output_type": "stream",
     "text": [
      "Train      - Loss:2.696702441337648  Metric:14.830597877502441\n",
      "Validation - Loss:3.77946207462213  Metric:43.71062469482422\n",
      "\n"
     ]
    },
    {
     "name": "stderr",
     "output_type": "stream",
     "text": [
      "Epoch 4: 100%|██████████| 367/367 [01:16<00:00,  4.77batch/s, loss=2.69, metric=14.7]\n"
     ]
    },
    {
     "name": "stdout",
     "output_type": "stream",
     "text": [
      "Train      - Loss:2.6857330818592042  Metric:14.674099922180176\n",
      "Validation - Loss:3.788746803234785  Metric:44.091793060302734\n",
      "\n"
     ]
    },
    {
     "name": "stderr",
     "output_type": "stream",
     "text": [
      "Epoch 5: 100%|██████████| 367/367 [01:16<00:00,  4.78batch/s, loss=2.67, metric=14.5]\n"
     ]
    },
    {
     "name": "stdout",
     "output_type": "stream",
     "text": [
      "Train      - Loss:2.674367488892267  Metric:14.502280235290527\n",
      "Validation - Loss:3.781896731792352  Metric:43.75384521484375\n",
      "\n"
     ]
    },
    {
     "name": "stderr",
     "output_type": "stream",
     "text": [
      "Epoch 6: 100%|██████████| 367/367 [01:15<00:00,  4.85batch/s, loss=2.66, metric=14.3]\n"
     ]
    },
    {
     "name": "stdout",
     "output_type": "stream",
     "text": [
      "Train      - Loss:2.66269200374385  Metric:14.325862884521484\n",
      "Validation - Loss:3.7814323963263097  Metric:43.896759033203125\n",
      "\n"
     ]
    },
    {
     "name": "stderr",
     "output_type": "stream",
     "text": [
      "Epoch 7: 100%|██████████| 367/367 [01:15<00:00,  4.89batch/s, loss=2.65, metric=14.2]\n"
     ]
    },
    {
     "name": "stdout",
     "output_type": "stream",
     "text": [
      "Train      - Loss:2.6509297907514857  Metric:14.169990539550781\n",
      "Validation - Loss:3.7806736689347487  Metric:43.76967239379883\n",
      "\n"
     ]
    },
    {
     "name": "stderr",
     "output_type": "stream",
     "text": [
      "Epoch 8: 100%|██████████| 367/367 [01:15<00:00,  4.86batch/s, loss=2.64, metric=14]  \n"
     ]
    },
    {
     "name": "stdout",
     "output_type": "stream",
     "text": [
      "Train      - Loss:2.639584896025281  Metric:13.999768257141113\n",
      "Validation - Loss:3.7813786298800736  Metric:43.78550338745117\n",
      "\n"
     ]
    },
    {
     "name": "stderr",
     "output_type": "stream",
     "text": [
      "Epoch 9: 100%|██████████| 367/367 [01:16<00:00,  4.78batch/s, loss=2.63, metric=13.8]\n"
     ]
    },
    {
     "name": "stdout",
     "output_type": "stream",
     "text": [
      "Train      - Loss:2.6285939918227026  Metric:13.849735260009766\n",
      "Validation - Loss:3.7931916897113505  Metric:44.50981903076172\n",
      "\n"
     ]
    },
    {
     "name": "stderr",
     "output_type": "stream",
     "text": [
      "Epoch 10: 100%|██████████| 367/367 [01:16<00:00,  4.78batch/s, loss=2.62, metric=13.7]\n"
     ]
    },
    {
     "name": "stdout",
     "output_type": "stream",
     "text": [
      "Train      - Loss:2.6162238861624485  Metric:13.684158325195312\n",
      "Validation - Loss:3.783437808354696  Metric:44.01996994018555\n",
      "\n"
     ]
    }
   ],
   "source": [
    "epochs = info['num_epoch']\n",
    "\n",
    "for epoch in range(1, epochs+1):\n",
    "    _, loss_train, metric_train = utils.train_one_epoch(model, train_loader, loss_fn, optimizer, epoch=epoch, device='cuda')\n",
    "    loss_valid, metric_valid = utils.evaluate(model, valid_loader, loss_fn, device='cuda')\n",
    "\n",
    "        \n",
    "    loss_train_hist.append(loss_train)\n",
    "    loss_valid_hist.append(loss_valid)\n",
    "\n",
    "    metric_train_hist.append(metric_train)\n",
    "    metric_valid_hist.append(metric_valid)\n",
    "\n",
    "\n",
    "    print(f'Train      - Loss:{loss_train}  Metric:{metric_train}')\n",
    "    print(f'Validation - Loss:{loss_valid}  Metric:{metric_valid}')\n",
    "    print()\n",
    "\n",
    "    if loss_valid < best_loss_valid:\n",
    "        save(save_path, model, optimizer, loss_fn)\n",
    "        best_loss_valid = loss_valid\n",
    "        print('Model Saved!')\n",
    "\n",
    "    if wandb_enable:\n",
    "        wandb.log({\"metric_train\": metric_train, \"loss_train\": loss_train,\n",
    "                   \"metric_valid\": metric_valid, \"loss_valid\": loss_valid})\n",
    "\n",
    "\n",
    "\n"
   ]
  },
  {
   "cell_type": "code",
   "execution_count": 28,
   "metadata": {},
   "outputs": [
    {
     "name": "stdout",
     "output_type": "stream",
     "text": [
      "\n",
      "Trained 100 epochs\n"
     ]
    },
    {
     "data": {
      "image/png": "[encoded data removed]",
      "text/plain": [
       "<Figure size 640x480 with 1 Axes>"
      ]
     },
     "metadata": {},
     "output_type": "display_data"
    },
    {
     "name": "stdout",
     "output_type": "stream",
     "text": [
      "\n",
      "Trained 100 epochs\n"
     ]
    },
    {
     "data": {
      "image/png": "[encoded data removed]",
      "text/plain": [
       "<Figure size 640x480 with 1 Axes>"
      ]
     },
     "metadata": {},
     "output_type": "display_data"
    }
   ],
   "source": [
    "plot(metric_train_hist, metric_valid_hist, \"Metric\")\n",
    "plot(loss_train_hist, loss_valid_hist, 'Loss')"
   ]
  }
 ],
 "metadata": {
  "kernelspec": {
   "display_name": "Python 3",
   "language": "python",
   "name": "python3"
  },
  "language_info": {
   "codemirror_mode": {
    "name": "ipython",
    "version": 3
   },
   "file_extension": ".py",
   "mimetype": "text/x-python",
   "name": "python",
   "nbconvert_exporter": "python",
   "pygments_lexer": "ipython3",
   "version": "3.11.4"
  }
 },
 "nbformat": 4,
 "nbformat_minor": 2
}
